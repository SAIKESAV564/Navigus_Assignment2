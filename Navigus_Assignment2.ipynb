{
  "nbformat": 4,
  "nbformat_minor": 0,
  "metadata": {
    "colab": {
      "name": "Navigus_Assignment2",
      "provenance": []
    },
    "kernelspec": {
      "name": "python3",
      "display_name": "Python 3"
    },
    "accelerator": "TPU"
  },
  "cells": [
    {
      "cell_type": "code",
      "metadata": {
        "id": "2a_E3As3f0y3",
        "colab_type": "code",
        "colab": {
          "base_uri": "https://localhost:8080/",
          "height": 84
        },
        "outputId": "3193c075-6763-4a04-de6c-90cf953d984b"
      },
      "source": [
        "!pip install config"
      ],
      "execution_count": 2,
      "outputs": [
        {
          "output_type": "stream",
          "text": [
            "Collecting config\n",
            "  Downloading https://files.pythonhosted.org/packages/67/af/a7c8be986afee4cf277045cfdb06605296ff3f1a1de415d62c18a7a33040/config-0.5.0.post0-py2.py3-none-any.whl\n",
            "Installing collected packages: config\n",
            "Successfully installed config-0.5.0.post0\n"
          ],
          "name": "stdout"
        }
      ]
    },
    {
      "cell_type": "code",
      "metadata": {
        "id": "cITRfJJUf71e",
        "colab_type": "code",
        "colab": {
          "base_uri": "https://localhost:8080/",
          "height": 118
        },
        "outputId": "83bf052f-1e70-4ec0-9c27-5aed510a6d48"
      },
      "source": [
        "!pip install selenium"
      ],
      "execution_count": 3,
      "outputs": [
        {
          "output_type": "stream",
          "text": [
            "Collecting selenium\n",
            "\u001b[?25l  Downloading https://files.pythonhosted.org/packages/80/d6/4294f0b4bce4de0abf13e17190289f9d0613b0a44e5dd6a7f5ca98459853/selenium-3.141.0-py2.py3-none-any.whl (904kB)\n",
            "\u001b[K     |████████████████████████████████| 911kB 3.5MB/s \n",
            "\u001b[?25hRequirement already satisfied: urllib3 in /usr/local/lib/python3.6/dist-packages (from selenium) (1.24.3)\n",
            "Installing collected packages: selenium\n",
            "Successfully installed selenium-3.141.0\n"
          ],
          "name": "stdout"
        }
      ]
    },
    {
      "cell_type": "code",
      "metadata": {
        "id": "rNVpoeZxfYOQ",
        "colab_type": "code",
        "colab": {}
      },
      "source": [
        "from config import *\n",
        "from selenium import webdriver\n",
        "from selenium.webdriver.chrome.options import Options\n",
        "import json\n",
        "import datetime\n",
        "import time\n",
        "from apiclient.discovery import build\n",
        "from google_auth_oauthlib.flow import InstalledAppFlow\n",
        "import pickle"
      ],
      "execution_count": 4,
      "outputs": []
    },
    {
      "cell_type": "code",
      "metadata": {
        "id": "rUHgphPNgAsq",
        "colab_type": "code",
        "colab": {}
      },
      "source": [
        "def get_url(booking_url):\n",
        "    book_date = datetime.datetime.today() + datetime.timedelta(days=365)\n",
        "    book_date_str = book_date.strftime('%Y-%m-%d')\n",
        "    booking_date_url = booking_url + book_date_str\n",
        "    return booking_date_url\n",
        "\n",
        "#Convert get_date() into xpath\n",
        "def booking_xpath(day_slot):\n",
        "    xpath = '//*[@id=\"GridTable\"]/tbody/tr[2]/td[' + day_slot +']'\n",
        "    return xpath\n",
        "def write_out(message):\n",
        "     with open('Todays_schedule.txt','a+') as f:\n",
        "                f.write(datetime.datetime.today().strftime('%Y-%m-%d:%H:%M:%S') + \": \"+ message + \"\\n\")\n",
        "\n",
        "\n",
        "def create_event(book_time,duration = 1, time_zone = 'Asia'):\n",
        "    \n",
        "    credentials = pickle.load(open(\"token.pkl\", \"rb\"))\n",
        "    service = build(\"calendar\", \"v3\", credentials = credentials)\n",
        "    calendar_id = 'student_Amrita@gmail.com'\n",
        "    \n",
        "    book_time_end = book_time + datetime.timedelta(hours =1)    \n",
        "    event = {\n",
        "      'summary': 'Submission of project work',\n",
        "      'location': 'HOD office, CEN department',  \n",
        "      'start': {\n",
        "        'dateTime': book_time.strftime(\"%Y-%m-%dT%H:%M:%S\"),\n",
        "        'timeZone': time_zone,\n",
        "      },\n",
        "      'end': {\n",
        "        'dateTime': book_time_end.strftime(\"%Y-%m-%dT%H:%M:%S\"),\n",
        "        'timeZone': time_zone,\n",
        "      },\n",
        "      'attendees': [\n",
        "        {'email': 'classrepresentative_Amrita@gmail.com'}\n",
        "      ],\n",
        "        'colorId': '10',\n",
        "      'reminders': {\n",
        "        'useDefault': False,\n",
        "        'overrides': [\n",
        "          {'method': 'email', 'minutes': 24 * 60},\n",
        "          {'method': 'popup', 'minutes': 60},\n",
        "        ],\n",
        "      },\n",
        "    }\n",
        "    return service.events().insert(calendarId=calendar_id, body=event).execute()"
      ],
      "execution_count": 5,
      "outputs": []
    },
    {
      "cell_type": "markdown",
      "metadata": {
        "id": "aTHFcl1NiXhN",
        "colab_type": "text"
      },
      "source": [
        "slot booking"
      ]
    },
    {
      "cell_type": "code",
      "metadata": {
        "id": "jPqF7rd7iWuR",
        "colab_type": "code",
        "colab": {}
      },
      "source": [
        "def slot_booking():\n",
        "    day_slots = str((datetime.datetime.today() + datetime.timedelta(days=1)).weekday()) \n",
        "    \n",
        "    if day_slots:\n",
        "        write_out('Found desired booking slots, initating booking')\n",
        "\n",
        "        try:            \n",
        "            chrome_options = Options()\n",
        "            chrome_options.add_argument(\"--headless\")\n",
        "            driver = webdriver.Chrome('./chromedriver_win32/chromedriver.exe',options=chrome_options)\n",
        "            driver.get(get_url(keys['booking_url']))\n",
        "            driver.find_element_by_xpath('//*[@id=\"txtUser\"]').send_keys(keys[\"user_id\"]) #User\n",
        "            driver.find_element_by_xpath('//*[@id=\"txtPassword\"]').send_keys(keys[\"password\"]) #Password\n",
        "            time.sleep(wait_for_tomorrow())\n",
        "            write_out('Logging in...')            \n",
        "            driver.find_element_by_xpath('//*[@id=\"PageContentArea\"]/form[1]/table/tbody/tr/td/table/tbody/tr/td/input[3]').click() #Submit                        \n",
        "        except:\n",
        "            driver.quit()\n",
        "\n",
        "        for i in range(3):\n",
        "            try:\n",
        "                write_out(\"Starting attempt \" + str(i+1))\n",
        "\n",
        "                           \n",
        "                for day_slot in day_slots:\n",
        "                    try:\n",
        "                        write_out('Trying to book for slot for project submission' + frame[day_slot])\n",
        "                        driver.find_element_by_xpath(booking_xpath(frame[day_slot])).click()                                        \n",
        "                    except:                    \n",
        "                        continue\n",
        "                #Attempt to submit booking            \n",
        "                try:\n",
        "                    driver.find_element_by_xpath('//*[@id=\"HeaderTable\"]/tbody/tr[1]/td/input[2]').click()\n",
        "                except:\n",
        "                    time.sleep(1)\n",
        "                    driver.refresh()\n",
        "                    continue\n",
        "                try:\n",
        "                    driver.switch_to.window(driver.window_handles[1])\n",
        "                    driver.find_element_by_xpath('//*[@id=\"SubPageContentArea\"]/form/table/tbody/tr[5]/td/input').click()\n",
        "                    break\n",
        "                except Exception as err:\n",
        "                    write_out(\"Try failure: \" + str(err))\n",
        "                    continue                       \n",
        "            except Exception as e:\n",
        "                write_out(\"Total Failure: \" + str(e))\n",
        "\n",
        "        #Exit Chrome Driver\n",
        "        driver.quit()\n",
        "        write_out(\"----------End of Booking----------\") \n",
        "    else:\n",
        "        write_out('Found no desired booking slots for ' + datetime.datetime.today().weekday())"
      ],
      "execution_count": 6,
      "outputs": []
    },
    {
      "cell_type": "markdown",
      "metadata": {
        "id": "fD3Q9KezhnTs",
        "colab_type": "text"
      },
      "source": [
        "Verying the booking"
      ]
    },
    {
      "cell_type": "code",
      "metadata": {
        "id": "13duM_K7hWYN",
        "colab_type": "code",
        "colab": {}
      },
      "source": [
        "def verify_bookings():\n",
        "    \n",
        "    chrome_options = Options()\n",
        "    chrome_options.add_argument(\"--headless\")\n",
        "    driver = webdriver.Chrome('./chromedriver_win32/chromedriver.exe',options=chrome_options)\n",
        "    driver.get('http://submissionofprojectwork:8081/booking/slotbookings.aspx?')\n",
        "    driver.find_element_by_xpath('//*[@id=\"txtUser\"]').send_keys(keys[\"user_id\"]) #User\n",
        "    driver.find_element_by_xpath('//*[@id=\"txtPassword\"]').send_keys(keys[\"password\"]) #Password\n",
        "    driver.find_element_by_xpath('//*[@id=\"PageContentArea\"]/form[1]/table/tbody/tr/td/table/tbody/tr/td/input[3]').click() #Submit\n",
        "    \n",
        "    book_date = datetime.datetime.today() + datetime.timedelta(days=14)\n",
        "    book_date_str = book_date.strftime('%d/%m/%Y')\n",
        "    \n",
        "    booking_list = []\n",
        "    booking_info = {}    \n",
        "    id_list=[]\n",
        "    tbl = driver.find_element_by_id(\"Table1\")\n",
        "    ids = tbl.find_elements_by_xpath('//*[@id]')\n",
        "    #Get a list of Ids from all items with IDs\n",
        "    elements = [x for x in ids if x.get_attribute('id').startswith('ID_')]\n",
        "    for element in elements:\n",
        "        sub_element = element.find_elements_by_class_name(\"form3\")\n",
        "        booking_date = sub_element[0].text\n",
        "        book_time = sub_element[1].text\n",
        "        facility = sub_element[2].text\n",
        "\n",
        "        booking_info = {'date': booking_date,\n",
        "                        'time' : book_time,\n",
        "                        'facility': facility}\n",
        "        \n",
        "        booking_list.append(booking_info)\n",
        "\n",
        "    for booking in booking_list:\n",
        "        if booking['date'] == book_date_str:\n",
        "            book_time_str = booking['date'] + \" \" + booking['time']\n",
        "            book_time = datetime.datetime.strptime(book_time_str, '%d/%m/%Y %I%p')\n",
        "            create_event(book_time)\n",
        "            write_out(json.dumps(booking))\n",
        "        else:\n",
        "            continue\n",
        "    driver.quit()\n",
        "    write_out(\"----------End of Verification----------\")"
      ],
      "execution_count": 7,
      "outputs": []
    },
    {
      "cell_type": "code",
      "metadata": {
        "id": "Q3X_s_v5iL18",
        "colab_type": "code",
        "colab": {}
      },
      "source": [
        "if __name__ == '__main__':\n",
        "    slot_booking()\n",
        "    verify_bookings()"
      ],
      "execution_count": null,
      "outputs": []
    }
  ]
}